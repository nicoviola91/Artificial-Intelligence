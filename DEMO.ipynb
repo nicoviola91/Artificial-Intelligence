{
 "cells": [
  {
   "cell_type": "code",
   "execution_count": 6,
   "id": "d29c231e",
   "metadata": {},
   "outputs": [],
   "source": [
    "class Action:\n",
    "    pre = {} #preconditions\n",
    "    eff={} #effects\n",
    "    cost=0\n",
    "    name = \"\"\n",
    "    def __init__(self, p, e, c, n):\n",
    "        self.pre = p\n",
    "        self.eff = e\n",
    "        self.name = n\n",
    "        self.cost = c\n",
    "        \n",
    "    def formatFluents(self, d):\n",
    "        string = \"\"\n",
    "        for k in d.keys():\n",
    "            if(d[k]==0):\n",
    "                string += \"\\n- \" + k\n",
    "            else:\n",
    "                string += \"\\n+ \" + k\n",
    "        return string\n",
    "\n",
    "    def __str__(self):\n",
    "        return f'Name: {self.name} \\nCost: {self.cost} \\nPreconditions: {self.formatFluents(self.pre)} \\nEffects: {self.formatFluents(self.eff)}'"
   ]
  },
  {
   "cell_type": "code",
   "execution_count": 7,
   "id": "51b1cbc6",
   "metadata": {},
   "outputs": [],
   "source": [
    "# Get only positive fluents\n",
    "def getPositiveFluents(state):\n",
    "    return {key:val for key, val in state.items() if val == 1}\n",
    "\n",
    "\n",
    "# Get only negative fluents\n",
    "def getNegativeFluents(state):\n",
    "    return {key:val for key, val in state.items() if val == 0}\n",
    "\n",
    "\n",
    "# Check if two states match (match positive fluents only)\n",
    "def statesMatch(s1,s2):\n",
    "    s1_pos = getPositiveFluents(s1).copy()\n",
    "    s2_pos = getPositiveFluents(s2).copy()\n",
    "    return s1_pos == s2_pos\n",
    "\n",
    "\n",
    "# Checks if state is a subset of the target – logic rule for checking goal state and applicable actions\n",
    "def stateSubset(state, target):\n",
    "    positives = getPositiveFluents(state).copy()\n",
    "    targetPos = getPositiveFluents(target).copy()\n",
    "    targetNeg = getNegativeFluents(target).copy()\n",
    "    subsetPos = targetPos.items() <= positives.items()\n",
    "    subsetNeg = any(p in positives for p in targetNeg) == False\n",
    "    return subsetPos & subsetNeg\n",
    "\n",
    "\n",
    "# Checks if a state fulfills the requirements for a goal state\n",
    "def atGoal(state, goal):\n",
    "    remainders = getPositiveFluents(state).copy().items() - getPositiveFluents(goal).copy().items()\n",
    "    worldCompliment = remainders - getNegativeFluents(goal).copy().items() == set()\n",
    "    return stateSubset(state, goal) & worldCompliment\n",
    "\n",
    "\n",
    "# Checks if an action is applicable for a given state\n",
    "def isApplicable(state, action):\n",
    "    return stateSubset(state, action.pre)\n",
    "    \n",
    "\n",
    "# For a state and all possible actions, return the [applicable actions] for the given state\n",
    "def applicableActions(state, actions):\n",
    "    arr = []\n",
    "    for a in actions:\n",
    "        if isApplicable(state, a):\n",
    "            arr.append(a)\n",
    "    return arr\n",
    "\n",
    "\n",
    "# Given a state and an action, applies the action and returns the following state if all preconditions are met\n",
    "def applyAction(state, action):    \n",
    "    if isApplicable(state, action) == False:\n",
    "        raise Exception(f'Action {action.name} cannot be applied to state {str(state)}')\n",
    "    newState = state.copy()\n",
    "    effects = action.eff.copy()\n",
    "    for k in effects.keys():\n",
    "        newState[k] = effects[k]\n",
    "        if effects[k] == 0:\n",
    "            newState.pop(k)\n",
    "    return newState"
   ]
  },
  {
   "cell_type": "code",
   "execution_count": 8,
   "id": "2ae9cb86",
   "metadata": {},
   "outputs": [],
   "source": [
    "# Node class for frontier\n",
    "class Node:\n",
    "    \n",
    "    def __init__(self, state, cost, path):\n",
    "        self.state = state\n",
    "        self.cost = cost\n",
    "        self.path = path\n",
    "\n",
    "    def __str__(self):\n",
    "        pathNames = [p.name for p in self.path]\n",
    "        pathStr = '[' + ', '.join(pathNames) + ']'\n",
    "        return f'State: {self.state}, Cost: {self.cost}, Path: {pathStr}'"
   ]
  },
  {
   "cell_type": "code",
   "execution_count": 12,
   "id": "463acf71",
   "metadata": {},
   "outputs": [],
   "source": [
    "def travelHeuristic(nextState):\n",
    "    fluents = getPositiveFluents(nextState)\n",
    "    hash_state = \"\"\n",
    "    for f in fluents:\n",
    "        hash_state=hash_state + f #trim f\n",
    "    #Pattern Database Heuristic\n",
    "    #The dictionary represents a Database\n",
    "    pdh={\"atHomehaveBags\":3,'haveBagsatTerminal':2,'haveBagsatTerminalboarded':1,'atHomehaveBagscarFueled':1,'haveBagsatTerminalcheckedIn':2,'haveBagsatTerminalcheckedInboarded':1}\n",
    "    try:\n",
    "        h = pdh[hash_state]\n",
    "    except:\n",
    "        h = 10\n",
    "    return h\n",
    "#     atTerminal = False\n",
    "#     atHome = False\n",
    "#     dic = nextState.copy()\n",
    "#     key, value = 'atTerminal',1\n",
    "#     if key in dic and value == dic[key]:\n",
    "#         atTerminal = True\n",
    "#     key, value = 'atHome',1\n",
    "#     if key in dic and value == dic[key]:\n",
    "#         atHome = True\n",
    "\n",
    "#     if atHome == False and atTerminal == False:\n",
    "#         return 1\n",
    "#     if atHome == True and atTerminal == False:\n",
    "#         return 4\n",
    "#     if atHome == False and atTerminal == True:\n",
    "#         return 2\n",
    "#     return 10 # This should never happen"
   ]
  },
  {
   "cell_type": "code",
   "execution_count": 10,
   "id": "3e17d17d",
   "metadata": {},
   "outputs": [],
   "source": [
    "def aStar(start, goal, actions):\n",
    "\n",
    "    # Init start node, frontier and visited list\n",
    "    init = Node(start, 0, [])\n",
    "    frontier = [init]\n",
    "    visited = [init]\n",
    "\n",
    "    while True:\n",
    "        \n",
    "        # Get first node from frontier\n",
    "        head = frontier.pop(0)\n",
    "\n",
    "        state = head.state.copy()\n",
    "\n",
    "        # When A* has found a path, return it\n",
    "        if (atGoal(state, goal)):\n",
    "            print(f'A* found a path with cost: {head.cost}')\n",
    "            return head.path\n",
    "\n",
    "        applicActions = applicableActions(state, actions)\n",
    "        \n",
    "        for action in applicActions:\n",
    "            nextState = applyAction(state, action).copy()\n",
    "            newPath = head.path + [action]\n",
    "            cost = travelHeuristic(nextState) + head.cost + action.cost\n",
    "            newNode = Node(nextState, cost, newPath)\n",
    "\n",
    "            # Only apply action if we haven't visited the state before\n",
    "            vis = False\n",
    "            for i in range(len(visited)):\n",
    "                if visited[i].state == nextState:\n",
    "                    vis = True\n",
    "                    if cost < visited[i].cost:\n",
    "                        visited[i] = newNode\n",
    "                        frontier.append(newNode)\n",
    "            if vis == False:\n",
    "                visited.append(newNode)\n",
    "                frontier.append(newNode)\n",
    "\n",
    "        # Sort frontier based on costs\n",
    "        frontier = sorted(frontier, key=lambda x:x.cost)\n",
    "        \n"
   ]
  },
  {
   "cell_type": "markdown",
   "id": "eae0b40e",
   "metadata": {},
   "source": [
    "# ORIGINAL CASE – NO WEIGHTS CHANGED "
   ]
  },
  {
   "cell_type": "code",
   "execution_count": 13,
   "id": "a40e73ee",
   "metadata": {},
   "outputs": [
    {
     "name": "stdout",
     "output_type": "stream",
     "text": [
      "A* found a path with cost: 22\n",
      "Solution: ['Pack', 'FuelCar', 'Drive']\n"
     ]
    }
   ],
   "source": [
    "demoGoal = {'atDestination':1,'haveBags':1}\n",
    "demoStart = {\"atHome\":1} \n",
    "\n",
    "demoA1 = Action(p={\"atHome\":1},e={\"haveBags\":1},c=1,n=\"Pack\")\n",
    "demoA2 = Action(p={\"haveBags\":1, \"carFueled\":0},e={\"carFueled\":1},c=2,n=\"FuelCar\")\n",
    "demoA3 = Action(p={\"haveBags\":1,\"carFueled\":1,\"atDestination\":0},e={\"carFueled\":0,'atDestination':1,\"atHome\":0},c=5,n=\"Drive\")\n",
    "demoA4 = Action(p={\"haveBags\":1, \"atHome\":1},e={\"atTerminal\":1,\"atHome\":0},c=2,n=\"Go To Terminal\")\n",
    "demoA5 = Action(p={\"atTerminal\":1,\"haveBags\":1,\"boarded\":0},e={\"boarded\":1},c=1,n=\"Board\")\n",
    "demoA6 = Action(p={\"atTerminal\":1, \"boarded\":0, \"checkedIn\":0},e={\"checkedIn\":1},c=1,n=\"Check In\")\n",
    "demoA7 = Action(p={\"checkedIn\":0,\"boarded\":1, \"atDestination\":0},e={\"atDestination\":1, \"atTerminal\":0, \"boarded\":0},c=3,n=\"Take Train\")\n",
    "demoA8 = Action(p={\"checkedIn\":1,\"boarded\":1, \"atDestination\":0},e={\"atDestination\":1,\"atTerminal\":0,\"boarded\":0, \"checkedIn\":0},c=1,n=\"Take Plane\")\n",
    "\n",
    "demoActions=[demoA1,demoA2,demoA3,demoA4,demoA5,demoA6,demoA7,demoA8]\n",
    "\n",
    "solution = aStar(demoStart, demoGoal, demoActions)\n",
    "print(f'Solution: {[a.name for a in solution]}')"
   ]
  },
  {
   "cell_type": "markdown",
   "id": "36709eda",
   "metadata": {},
   "source": [
    "# NEXT CASE – ADD COST + 2 to TAKE TRAIN, SHOULD CHANGE THE PATH TO EITHER \n",
    "## ['Pack', 'Go To Terminal', ‘Check in’, ’Board', 'Take Plane’] = 17 (cost + h), or\n",
    "## ['Pack', 'Fuel', ‘Drive’] = 17 (cost + h)"
   ]
  },
  {
   "cell_type": "code",
   "execution_count": 7,
   "id": "d65f202a",
   "metadata": {},
   "outputs": [
    {
     "name": "stdout",
     "output_type": "stream",
     "text": [
      "A* found a path with cost: 17\n",
      "Solution: ['Pack', 'FuelCar', 'Drive']\n"
     ]
    }
   ],
   "source": [
    "demoA7 = Action(p={\"checkedIn\":0,\"boarded\":1, \"atDestination\":0},e={\"atDestination\":1, \"atTerminal\":0, \"boarded\":0},c=5,n=\"Take Train\")\n",
    "\n",
    "demoActions=[demoA1,demoA2,demoA3,demoA4,demoA5,demoA6,demoA7,demoA8]\n",
    "\n",
    "solution = aStar(demoStart, demoGoal, demoActions)\n",
    "print(f'Solution: {[a.name for a in solution]}')"
   ]
  },
  {
   "cell_type": "markdown",
   "id": "fcd9ff81",
   "metadata": {},
   "source": [
    "# NEXT CASE – ADD COST + 1 TO DRIVE, SHOULD RETURN \n",
    "## ['Pack', 'Go To Terminal', ‘Check in’, ’Board', 'Take Plane’] = 17 (cost + h)"
   ]
  },
  {
   "cell_type": "code",
   "execution_count": 8,
   "id": "61e0c873",
   "metadata": {},
   "outputs": [
    {
     "name": "stdout",
     "output_type": "stream",
     "text": [
      "A* found a path with cost: 17\n",
      "Solution: ['Pack', 'Go To Terminal', 'Check In', 'Board', 'Take Plane']\n"
     ]
    }
   ],
   "source": [
    "demoA3 = Action(p={\"haveBags\":1,\"carFueled\":1,\"atDestination\":0},e={\"carFueled\":0,'atDestination':1,\"atHome\":0},c=6,n=\"Drive\")\n",
    "\n",
    "\n",
    "demoActions=[demoA1,demoA2,demoA3,demoA4,demoA5,demoA6,demoA7,demoA8]\n",
    "\n",
    "solution = aStar(demoStart, demoGoal, demoActions)\n",
    "print(f'Solution: {[a.name for a in solution]}')"
   ]
  },
  {
   "cell_type": "code",
   "execution_count": null,
   "id": "5a17dfac",
   "metadata": {},
   "outputs": [],
   "source": []
  }
 ],
 "metadata": {
  "kernelspec": {
   "display_name": "Python 3 (ipykernel)",
   "language": "python",
   "name": "python3"
  },
  "language_info": {
   "codemirror_mode": {
    "name": "ipython",
    "version": 3
   },
   "file_extension": ".py",
   "mimetype": "text/x-python",
   "name": "python",
   "nbconvert_exporter": "python",
   "pygments_lexer": "ipython3",
   "version": "3.9.12"
  }
 },
 "nbformat": 4,
 "nbformat_minor": 5
}
